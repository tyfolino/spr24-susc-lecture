{
 "cells": [
  {
   "cell_type": "markdown",
   "id": "63443157-87b4-4d00-923b-79646cfce4d0",
   "metadata": {
    "slideshow": {
     "slide_type": "slide"
    },
    "tags": []
   },
   "source": [
    "# Intro to Jupyter\n",
    "\n",
    "*By: Ty Janoski*\n",
    "\n",
    "*Postdoctoral Fellow*\n",
    "\n",
    "*02.01.2024*\n",
    "\n",
    "Have questions about the contents of this lecture? Email me! <tjanoski@ccny.cuny.edu>"
   ]
  },
  {
   "cell_type": "markdown",
   "id": "f0f7e588-22d1-45b2-a251-a87e6003a846",
   "metadata": {},
   "source": [
    "## Welcome to JupyterLab!"
   ]
  },
  {
   "cell_type": "markdown",
   "id": "6adfff51-fd4d-4313-be7f-01892d301068",
   "metadata": {
    "tags": []
   },
   "source": [
    "### Why use JupyterLab?"
   ]
  },
  {
   "cell_type": "markdown",
   "id": "1b057bfd-1d3b-45dc-aca0-95db880c46b9",
   "metadata": {},
   "source": [
    "So far in this class, you have used Spyder for most of your computing. Spyder is what we call an **integrated development environment (IDE)**. It is excellent for writing python (.py) scripts and debugging them. There are times, however, when we might want something more user-friendly and interactive, especially if we are making lots of plots or integrating various scripts and files. This is where JupyterLab fits in.\n",
    "\n",
    "Some nice features of JupyterLab are that it:\n",
    "* Opens many different file types\n",
    "* Runs right in your browser\n",
    "* Supports mulitple programming languages (Python, R, Julia, etc.)\n",
    "* Is widely used and well-documented\n",
    "* Has a whole library of useful third-party extensions\n",
    "* Lets you export notebooks as PDFs to share or even presentation slides\n",
    "* Frequently autosaves and stores checkpoints in a folder for you"
   ]
  },
  {
   "cell_type": "markdown",
   "id": "f2bc5962-f621-4065-bdff-edc2149cdf37",
   "metadata": {},
   "source": [
    "![Jupyter Logo](jupyter_logo.png)"
   ]
  },
  {
   "cell_type": "markdown",
   "id": "400d4afc-e8d7-499d-bfbb-65bf099bbb17",
   "metadata": {},
   "source": [
    "Sources:\n",
    "\n",
    "[JupyterLab documentation](https://jupyterlab.readthedocs.io/en/stable/)\n",
    "\n",
    "[Markdown guide](https://www.markdownguide.org/basic-syntax)"
   ]
  },
  {
   "cell_type": "markdown",
   "id": "3a918c72-b340-4795-b3a6-a651f5a72a0c",
   "metadata": {},
   "source": [
    "### Jupyter basics\n",
    "\n",
    "Let's start exploring JupyterLab. The central window where this text appears with the tabs at the top is the **work area**. The other two important areas are the **left sidebar and menu bar**.\n",
    "\n",
    "#### Work area\n",
    "\n",
    "This contains all your currently open files as tabs. The file we are working through right now is a **notebook**. The notebook is made up of **cells**, which are individual units of executable code or text. If you double-click on this text, you will see that it is actually written in a format called **Markdown**. We will write some code in a bit.\n",
    "\n",
    "#### Left sidebar\n",
    "\n",
    "This contains your file navigator, which is incredibly useful for finding and opening your scripts, notebooks, plots, etc. The other tabs show the list of currently running kernels, the table of contents of your notebook, and the third-party extensions library. The large plus button near the top is how we can make new files using Jupyter.\n",
    "\n",
    "#### Menu bar\n",
    "\n",
    "Very useful and mostly self-explanatory. File, edit, kernel, and settings contain many of the commonly used actions.\n",
    "\n",
    "#### Workspace\n",
    "\n",
    "The collection of tabs we have open is our **workspace**. We can save our workspace so that we can always open up the same files as a batch."
   ]
  },
  {
   "cell_type": "markdown",
   "id": "0a3522dd-e1c6-4a98-b88e-adf307903964",
   "metadata": {
    "tags": []
   },
   "source": [
    "### Jupyter notebooks\n",
    "\n",
    "#### Working with cells\n",
    "\n",
    "The best way to learn about notebooks is to run one yourself. To run a cell, whether it's code or markdown, simply enter the cell with your cursor and hit `Shift + Enter`. You can also click the \"play\" button at the top of the notebook, or navigate to the run menu in the menu bar.\n",
    "\n",
    "**Try running the cell of code below!**\n"
   ]
  },
  {
   "cell_type": "code",
   "execution_count": null,
   "id": "19f6ec63-969e-485b-82ef-cdbdada128cd",
   "metadata": {
    "tags": []
   },
   "outputs": [
    {
     "name": "stdout",
     "output_type": "stream",
     "text": [
      "This is a test to see if you can run a cell :) \n"
     ]
    }
   ],
   "source": [
    "print('This is a test to see if you can run a cell :) ')"
   ]
  },
  {
   "cell_type": "markdown",
   "id": "c0243b4e-fe29-4332-9dbd-3678fcf404c1",
   "metadata": {},
   "source": [
    "Easy enough. Let's run another."
   ]
  },
  {
   "cell_type": "code",
   "execution_count": null,
   "id": "78544828-cd0c-49bb-9c7d-1d18f45f04fe",
   "metadata": {
    "slideshow": {
     "slide_type": "slide"
    },
    "tags": []
   },
   "outputs": [
    {
     "ename": "KeyboardInterrupt",
     "evalue": "",
     "output_type": "error",
     "traceback": [
      "\u001b[1;31m---------------------------------------------------------------------------\u001b[0m",
      "\u001b[1;31mKeyboardInterrupt\u001b[0m                         Traceback (most recent call last)",
      "Cell \u001b[1;32mIn[2], line 3\u001b[0m\n\u001b[0;32m      1\u001b[0m \u001b[38;5;66;03m# an innocent loop\u001b[39;00m\n\u001b[0;32m      2\u001b[0m i\u001b[38;5;241m=\u001b[39m\u001b[38;5;241m1\u001b[39m\n\u001b[1;32m----> 3\u001b[0m \u001b[38;5;28;01mwhile\u001b[39;00m(\u001b[43mi\u001b[49m\u001b[38;5;241m>\u001b[39m\u001b[38;5;241m0\u001b[39m):\n\u001b[0;32m      4\u001b[0m     \u001b[38;5;28;01mpass\u001b[39;00m\n",
      "\u001b[1;31mKeyboardInterrupt\u001b[0m: "
     ]
    }
   ],
   "source": [
    "# an innocent loop\n",
    "i=1\n",
    "while(i>0):\n",
    "    pass"
   ]
  },
  {
   "cell_type": "markdown",
   "id": "9e138151-d9f5-43d0-ab28-ebe94b124b1f",
   "metadata": {},
   "source": [
    "Notice some of the indicators that a cell is being executed.\n",
    "\n",
    "**Now, run the cell below.**"
   ]
  },
  {
   "cell_type": "markdown",
   "id": "695ff727-20d3-44c4-9352-b7d46e7fc59b",
   "metadata": {},
   "source": [
    "Here's the formula for hydrostatic balance:\n",
    "\n",
    "$$\\frac{dp}{dz} = -\\rho g$$"
   ]
  },
  {
   "cell_type": "markdown",
   "id": "81768aa8-a734-44f6-9bce-2f23b2c640e9",
   "metadata": {},
   "source": [
    "We have to be careful to make sure our cells are labeled correctly as code or markdown. To change the above cell to markdown, click to the left of the cell (outside the text block) and hit `M` on your keyboard. Alternatively, click in the text and change the dropdown at the top of the notebook from \"code\" to \"Markdown\""
   ]
  },
  {
   "cell_type": "markdown",
   "id": "bf713e9c-f1f7-4bfc-abd6-89ed17bc5325",
   "metadata": {},
   "source": [
    "#### A couple quick exercises!\n",
    "\n",
    "1. In the folder for this lecture, there is a file named animal.jpg. Open it using Jupyter's file explorer. In a new markdown cell below, type what kind of animal it is. Insert the picture in the cell using markdown (see image earlier in notebook for example!)\n",
    "\n",
    "2. In a new python script file (.py) created using JupyterLab, write a function called get_var that calculates the variance of a list of integers. The variance is equal to the standard deviation, squared. No need to reinvent the wheel - you can use numpy's std function (`np.std`). Import the function in a new cell and calculate the variance of this list: `[1,1,2,3,5,8]`"
   ]
  }
 ],
 "metadata": {
  "kernelspec": {
   "display_name": "Python 3 (ipykernel)",
   "language": "python",
   "name": "python3"
  },
  "language_info": {
   "codemirror_mode": {
    "name": "ipython",
    "version": 3
   },
   "file_extension": ".py",
   "mimetype": "text/x-python",
   "name": "python",
   "nbconvert_exporter": "python",
   "pygments_lexer": "ipython3",
   "version": "3.11.7"
  },
  "toc-showcode": false,
  "toc-showmarkdowntxt": false
 },
 "nbformat": 4,
 "nbformat_minor": 5
}
